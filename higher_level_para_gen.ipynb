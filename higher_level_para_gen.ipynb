{
 "cells": [
  {
   "cell_type": "markdown",
   "metadata": {},
   "source": [
    "静态参数\n",
    "1. 阳极材料，使用one-hot encoding\n",
    "2. 阴极材料，使用one-hot encoding\n",
    "3. 额定容量\n",
    "4. 上截止电压\n",
    "5. 下截止电压\n",
    "\n",
    "动态参数\n",
    "1. 部分CC充电段的电压最大值\n",
    "2. 部分CC充电段的电压最小值\n",
    "3. 平均充电电流\n",
    "4. 平均温度，对此数据集就是设定的恒定温度\n",
    "5. 部分CC充电段的容量\n",
    "6. 部分CC充电段的时间\n",
    "7. 平均SOC\n",
    "8. 平均放电深度\n",
    "9. 总的电荷吞吐量\n",
    "10. 总的能量吞吐量\n",
    "11. 总操作时间"
   ]
  },
  {
   "cell_type": "code",
   "execution_count": 1,
   "metadata": {},
   "outputs": [],
   "source": [
    "import numpy as np\n",
    "import pandas as pd\n",
    "import matplotlib.pyplot as plt"
   ]
  },
  {
   "cell_type": "code",
   "execution_count": 5,
   "metadata": {},
   "outputs": [
    {
     "name": "stdout",
     "output_type": "stream",
     "text": [
      "([2, 3, 4, 5], [5, 7, 9, 11])\n"
     ]
    }
   ],
   "source": [
    "def filter_elements_in_range(arr, lower_bound, upper_bound):\n",
    "    result = [(index, element) for index, element in enumerate(arr) if lower_bound <= element <= upper_bound]\n",
    "    key = [i[0] for i in result]\n",
    "    value = [i[1] for i in result]\n",
    "    return key, value\n",
    "\n",
    "# 示例用法\n",
    "my_array = [1, 3, 5, 7, 9, 11, 13, 15]\n",
    "lower_limit = 5\n",
    "upper_limit = 12\n",
    "\n",
    "filtered_elements = filter_elements_in_range(my_array, lower_limit, upper_limit)\n",
    "print(filtered_elements)"
   ]
  },
  {
   "cell_type": "code",
   "execution_count": 3,
   "metadata": {},
   "outputs": [
    {
     "name": "stdout",
     "output_type": "stream",
     "text": [
      "<class 'numpy.ndarray'> (7,)\n"
     ]
    }
   ],
   "source": [
    "data_path = \"./Dataset_3_NCM_NCA_battery/processed_CY25-05_2-#2.pkl\"\n",
    "data = np.load(data_path, allow_pickle=True)\n",
    "\n",
    "soc_range= [0.2, 0.8] # 对于CCCV充电协议，CC段SOC最大值到不了100%\n",
    "\n",
    "for cell_data in data:\n",
    "    # 七个分量分别是i, time, Current, Ecell, Tem, SOC, np.max(Q_dis)\n",
    "    print(type(cell_data), cell_data.shape)\n",
    "\n",
    "\n",
    "    assert len(soc_range) == 2 and soc_range[0] < soc_range[1], \"Wrong SOC range format, pleasse check it!\"\n",
    "\n",
    "    \n",
    "    break"
   ]
  }
 ],
 "metadata": {
  "kernelspec": {
   "display_name": "dast",
   "language": "python",
   "name": "python3"
  },
  "language_info": {
   "codemirror_mode": {
    "name": "ipython",
    "version": 3
   },
   "file_extension": ".py",
   "mimetype": "text/x-python",
   "name": "python",
   "nbconvert_exporter": "python",
   "pygments_lexer": "ipython3",
   "version": "3.8.18"
  }
 },
 "nbformat": 4,
 "nbformat_minor": 2
}
